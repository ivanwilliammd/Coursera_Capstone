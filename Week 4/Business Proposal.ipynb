{
 "cells": [
  {
   "cell_type": "markdown",
   "metadata": {},
   "source": [
    "# The Battle of Neighborhoods | Business Proposal for Culinary Business in Tangerang | Introduction"
   ]
  },
  {
   "cell_type": "markdown",
   "metadata": {},
   "source": [
    "## Introduction:"
   ]
  },
  {
   "cell_type": "markdown",
   "metadata": {},
   "source": [
    "As many of the people migrate and looking forward to have better living, many people migrate from rural to urbanized area. As part in exploring better facilities around their neighborhood. It will help people making smart and reasonable decision on selecting best neighborhood out of numbers of other neighborhoods in Tangerang Regency, Banten, Indonesia.\n",
    "\n",
    "Canada is one of the most destined migration place which have a good salaries with affordable living costs, and good business oppurtunities. As most of people know, Indonesian culinary is one of the top selling business and attraction when traveller visit Indonesia, and Soekarno Hatta international airport is also located in Tangerang Regency, Banten, Indonesia.\n",
    "\n",
    "This Proposal aim to create an analysis of features for a low-middle income population in Tangerang District to choose the best and flourishing culinary business between neighborhoods. The features include the top selling food types and number of population in nearby districts.\n",
    "\n",
    "It will help people to get awareness of the area and neighborhood before moving to a new city, state, country or place for their work or to start a new culinary business."
   ]
  },
  {
   "cell_type": "markdown",
   "metadata": {},
   "source": [
    "## Problem :"
   ]
  },
  {
   "cell_type": "markdown",
   "metadata": {},
   "source": [
    "The major purpose of this project, is to suggest a better neighborhood for the person who are migrating/moving there to start a culinary business. Business flourishing depends on number of audience and food type likeability in particular area.\n",
    "\n",
    "1. Sorted list of 5 topmost culinary in particular districts.\n",
    "2. Sorted list of 3 most recommended culinary food business to start"
   ]
  },
  {
   "cell_type": "markdown",
   "metadata": {},
   "source": [
    "## The Location:\n",
    "<a href=\"https://en.wikipedia.org/wiki/Tangerang_Regency\">https://en.wikipedia.org/wiki/Tangerang_Regency</a>\n",
    "\n",
    "Tangerang Regency is a regency of Banten province, Indonesia. It is located on the island of Java. The current regent is Ahmed Zaki Iskandar. Though commonly misunderstood as being a part of Jakarta, Tangerang is actually outside Jakarta City but is part of Greater Jakarta (which is called Jabodetabek, Tangerang being the \"ta\" of the acronym). Since 1993, the Regency has lost territory as first Tangerang city was split off on 27 February 1993 and subsequently South Tangerang city was split off on 29 October 2008. The residual Regency now has an area of 959.61 km² and an official 2010 census count of 2,838,621;[2] the Intermediate Census of 2015 gave a total population of 3,361,740, and the latest estimate (as of mid 2020) is 3,908,880.[3] Tigaraksa is the administrative capital of the regency."
   ]
  },
  {
   "cell_type": "markdown",
   "metadata": {},
   "source": [
    "## Foursquare API:¶\n",
    "\n",
    "This project would use Four-square API to gather data and review from millions of places, especially their places API which provides the ability to perform location search, location sharing and details about a business."
   ]
  },
  {
   "cell_type": "markdown",
   "metadata": {},
   "source": [
    "## Work Flow:\n",
    "\n",
    "Using credentials of Foursquare API features of near-by places of the neighborhoods would be mined. Due to http request limitations the number of places per neighborhood parameter would be set to 100 in 500m radius."
   ]
  },
  {
   "cell_type": "markdown",
   "metadata": {},
   "source": [
    "## Clustering Approach:\n",
    "\n",
    "To compare the similarities of culinary business spread, we decided to explore neighborhoods, segment them, and group them into clusters to find similar neighborhoods of culinary business in all of Tangerang Regency. To be able to do that, we need to cluster data which is a form of unsupervised machine learning: k-means clustering algorithm."
   ]
  },
  {
   "cell_type": "markdown",
   "metadata": {},
   "source": [
    "## Libraries Which are Used to Developing the Project:\n",
    "\n",
    "1. Pandas: Great dataframe manipulation library.\n",
    "2. Folium: Python GIS leaflet visualization library.\n",
    "3. Scikit Learn (sklearn) : k-means clustering module.\n",
    "4. JSON: JSON files handler.\n",
    "5. XML: Separate data from presentation and XML stores data in plain text format.\n",
    "6. Geocoder: Retrieve Location Data.\n",
    "7. Beautiful Soup (BS) and requests: scrap and handle http requests.\n",
    "8. Matplotlib: Great data visualization library."
   ]
  }
 ],
 "metadata": {
  "kernelspec": {
   "display_name": "Python 3",
   "language": "python",
   "name": "python3"
  },
  "language_info": {
   "codemirror_mode": {
    "name": "ipython",
    "version": 3
   },
   "file_extension": ".py",
   "mimetype": "text/x-python",
   "name": "python",
   "nbconvert_exporter": "python",
   "pygments_lexer": "ipython3",
   "version": "3.7.7"
  }
 },
 "nbformat": 4,
 "nbformat_minor": 4
}
