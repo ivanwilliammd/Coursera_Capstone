{
 "cells": [
  {
   "cell_type": "markdown",
   "metadata": {},
   "source": [
    "# The Battle of Neighborhoods | Business Proposal | Introduction"
   ]
  },
  {
   "cell_type": "markdown",
   "metadata": {},
   "source": [
    "## Introduction:"
   ]
  },
  {
   "cell_type": "markdown",
   "metadata": {},
   "source": [
    "As many of the people migrate and looking forward to have better living, many people migrate from rural to urbanized area. As part in exploring better facilities around their neighborhood. It will help people making smart and reasonable decision on selecting best neighborhood out of numbers of other neighborhoods in York, Toranto.\n",
    "\n",
    "Canada is one of the most destined migration place which have a good salaries with affordable living costs.However, to suit the best neighbourhood to live, many people need to do research on location, pricing and public accomodation (Cafe, School, Super market, medical shops, grocery shops, mall, theatre, hospital, etc.)\n",
    "\n",
    "This Proposal aim to create an analysis of features for a family migrating to York to search a best neighborhood as a comparative analysis between neighborhoods. The features include median housing price and better school according to ratings, crime rates of that particular area, road connectivity, weather conditions, good management for emergency, water resources both freash and waste water and excrement conveyed in sewers and recreational facilities.\n",
    "\n",
    "It will help people to get awareness of the area and neighborhood before moving to a new city, state, country or place for their work or to start a new fresh life."
   ]
  },
  {
   "cell_type": "markdown",
   "metadata": {},
   "source": [
    "## Problem :"
   ]
  },
  {
   "cell_type": "markdown",
   "metadata": {},
   "source": [
    "The major purpose of this project, is to suggest a better neighborhood for the person who are migrating/moving there. Social presence depends on accessibility to public transport such as airport, bus stand, city center, markets and other daily needs things nearby and pulic accomodation.\n",
    "\n",
    "1. Sorted list of house in terms of housing prices in a ascending or descending order\n",
    "2. Sorted list of schools in terms of location, fees, rating and reviews"
   ]
  },
  {
   "cell_type": "markdown",
   "metadata": {},
   "source": [
    "## The Location:\n",
    "<a href=\"https://en.wikipedia.org/wiki/York,_Toronto\">https://en.wikipedia.org/wiki/York,_Toronto</a>\n",
    "\n",
    "York is a former city within the current city of Toronto, Ontario, Canada. It is located northwest of Old Toronto, southwest of North York and east of Etobicoke, where it is bounded by the Humber River. As a separate city, it was one of six municipalities that amalgamated in 1998 to form the current city of Toronto. The City of York was created by the amalgamation of several villages, including the present-day neighbourhoods of Lambton Mills and Weston."
   ]
  },
  {
   "cell_type": "markdown",
   "metadata": {},
   "source": [
    "## Foursquare API:¶\n",
    "\n",
    "This project would use Four-square API to gather data and review from millions of places, especially their places API which provides the ability to perform location search, location sharing and details about a business."
   ]
  },
  {
   "cell_type": "markdown",
   "metadata": {},
   "source": [
    "## Work Flow:\n",
    "\n",
    "Using credentials of Foursquare API features of near-by places of the neighborhoods would be mined. Due to http request limitations the number of places per neighborhood parameter would be set to 100 in 500m radius."
   ]
  },
  {
   "cell_type": "markdown",
   "metadata": {},
   "source": [
    "## Clustering Approach:\n",
    "\n",
    "To compare the similarities of two cities, we decided to explore neighborhoods, segment them, and group them into clusters to find similar neighborhoods in a big city like New York and Toronto. To be able to do that, we need to cluster data which is a form of unsupervised machine learning: k-means clustering algorithm."
   ]
  },
  {
   "cell_type": "markdown",
   "metadata": {},
   "source": [
    "## Libraries Which are Used to Developing the Project:\n",
    "\n",
    "1. Pandas: Great dataframe manipulation library.\n",
    "2. Folium: Python GIS leaflet visualization library.\n",
    "3. Scikit Learn (sklearn) : k-means clustering module.\n",
    "4. JSON: JSON files handler.\n",
    "5. XML: Separate data from presentation and XML stores data in plain text format.\n",
    "6. Geocoder: Retrieve Location Data.\n",
    "7. Beautiful Soup (BS) and requests: scrap and handle http requests.\n",
    "8. Matplotlib: Great data visualization library."
   ]
  }
 ],
 "metadata": {
  "kernelspec": {
   "display_name": "Python 3",
   "language": "python",
   "name": "python3"
  },
  "language_info": {
   "codemirror_mode": {
    "name": "ipython",
    "version": 3
   },
   "file_extension": ".py",
   "mimetype": "text/x-python",
   "name": "python",
   "nbconvert_exporter": "python",
   "pygments_lexer": "ipython3",
   "version": "3.7.7"
  }
 },
 "nbformat": 4,
 "nbformat_minor": 4
}
