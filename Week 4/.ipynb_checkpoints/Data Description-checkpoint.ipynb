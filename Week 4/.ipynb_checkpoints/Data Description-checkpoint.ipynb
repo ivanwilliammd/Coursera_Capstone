{
 "cells": [
  {
   "cell_type": "markdown",
   "metadata": {},
   "source": [
    "# The Battle of Neighborhoods - Tangerang Regency| Data Description\n",
    "\n",
    "\n",
    "## 1. Borough and Neighbourhood information:\n",
    "\n",
    "Data Link: https://id.wikipedia.org/wiki/Daftar_kecamatan_dan_kelurahan_di_Kabupaten_Tangerang\n",
    "\n",
    "Dataset consisting of latitude and longitude.\n",
    "\n",
    "\n",
    "## 2. Number of population in Tangerang Regency\n",
    "\n",
    "Data Link: https://tangerangkab.bps.go.id/statictable/download.html?nrbvfeve=NjE%3D&sdfs=ldjfdifsdjkfahi&zxcv=L2JhY2tlbmQ%3D&xzmn=aHR0cHM6Ly90YW5nZXJhbmdrYWIuYnBzLmdvLmlkL3N0YXRpY3RhYmxlLzIwMTgvMDIvMDIvNjEvanVtbGFoLXBlbmR1ZHVrLWJlcmRhc2Fya2FuLWplbmlzLWtlbGFtaW4tbWVudXJ1dC1rZWNhbWF0YW4tZGkta2FidXBhdGVuLXRhbmdlcmFuZy0tMjAxNi5odG1s&twoadfnoarfeauf=MjAyMS0wMS0wNiAxNjo0NTo0MA%3D%3D\n",
    "\n",
    "Dataset consists of borough, neighbourhood, male & female population, total population, and male/female ratio.\n",
    "\n",
    "\n",
    "## 3. Indonesian GeoJSON data based on postal & area\n",
    "\n",
    "Github link: https://github.com/ArrayAccess/Indonesia-Postal-And-Area/\n",
    "\n",
    "Dataset contains of postals, area, subdistrict information and used in conjuction with data we got from wikipedia\n",
    "\n",
    "\n",
    "\n",
    "## Foursquare API Data:\n",
    "Foursquare will provide data about different venues in different neighborhoods of that specific borough. Foursquare is of location data provider with detailed information including venue names, locations, menus and even photos. As such, the foursquare location platform will be used as the sole reference data source since all the stated required information can be obtained through the API.\n",
    "\n",
    "After finding the list of neighborhoods, we then connect to the Foursquare API to gather information about venues inside each and every neighborhood. For each neighborhood, we have chosen the radius to be 100 meter.\n",
    "\n",
    "The data retrieved from Foursquare contained information of venues within a specified distance of the longitude and latitude of the postcodes. The information obtained per venue as follows:\n",
    "\n",
    "1. Neighborhood\n",
    "2. Neighborhood Latitude\n",
    "3. Neighborhood Longitude\n",
    "4. Venue\n",
    "5. Name of the venue e.g. the name of a store or restaurant\n",
    "6. Venue Latitude\n",
    "7. Venue Longitude\n",
    "8. Venue Category"
   ]
  }
 ],
 "metadata": {
  "kernelspec": {
   "display_name": "Python 3",
   "language": "python",
   "name": "python3"
  },
  "language_info": {
   "codemirror_mode": {
    "name": "ipython",
    "version": 3
   },
   "file_extension": ".py",
   "mimetype": "text/x-python",
   "name": "python",
   "nbconvert_exporter": "python",
   "pygments_lexer": "ipython3",
   "version": "3.7.7"
  }
 },
 "nbformat": 4,
 "nbformat_minor": 4
}
